{
 "cells": [
  {
   "cell_type": "code",
   "execution_count": 1,
   "id": "468683a4",
   "metadata": {},
   "outputs": [],
   "source": [
    "import pandas as pd\n",
    "import numpy as np\n",
    "import scipy.stats as stats\n",
    "import matplotlib.pyplot as plt"
   ]
  },
  {
   "cell_type": "code",
   "execution_count": 2,
   "id": "aeafb15d",
   "metadata": {},
   "outputs": [
    {
     "data": {
      "text/html": [
       "<div>\n",
       "<style scoped>\n",
       "    .dataframe tbody tr th:only-of-type {\n",
       "        vertical-align: middle;\n",
       "    }\n",
       "\n",
       "    .dataframe tbody tr th {\n",
       "        vertical-align: top;\n",
       "    }\n",
       "\n",
       "    .dataframe thead th {\n",
       "        text-align: right;\n",
       "    }\n",
       "</style>\n",
       "<table border=\"1\" class=\"dataframe\">\n",
       "  <thead>\n",
       "    <tr style=\"text-align: right;\">\n",
       "      <th></th>\n",
       "      <th>date</th>\n",
       "      <th>time</th>\n",
       "      <th>price</th>\n",
       "      <th>volume</th>\n",
       "    </tr>\n",
       "  </thead>\n",
       "  <tbody>\n",
       "    <tr>\n",
       "      <th>0</th>\n",
       "      <td>01/03/2000</td>\n",
       "      <td>08:30:34.000</td>\n",
       "      <td>1496.4</td>\n",
       "      <td>0</td>\n",
       "    </tr>\n",
       "    <tr>\n",
       "      <th>1</th>\n",
       "      <td>01/03/2000</td>\n",
       "      <td>08:30:36.000</td>\n",
       "      <td>1496.0</td>\n",
       "      <td>0</td>\n",
       "    </tr>\n",
       "    <tr>\n",
       "      <th>2</th>\n",
       "      <td>01/03/2000</td>\n",
       "      <td>08:30:37.000</td>\n",
       "      <td>1495.5</td>\n",
       "      <td>0</td>\n",
       "    </tr>\n",
       "    <tr>\n",
       "      <th>3</th>\n",
       "      <td>01/03/2000</td>\n",
       "      <td>08:30:46.000</td>\n",
       "      <td>1495.0</td>\n",
       "      <td>0</td>\n",
       "    </tr>\n",
       "    <tr>\n",
       "      <th>4</th>\n",
       "      <td>01/03/2000</td>\n",
       "      <td>08:30:53.000</td>\n",
       "      <td>1495.5</td>\n",
       "      <td>0</td>\n",
       "    </tr>\n",
       "  </tbody>\n",
       "</table>\n",
       "</div>"
      ],
      "text/plain": [
       "         date          time   price  volume\n",
       "0  01/03/2000  08:30:34.000  1496.4       0\n",
       "1  01/03/2000  08:30:36.000  1496.0       0\n",
       "2  01/03/2000  08:30:37.000  1495.5       0\n",
       "3  01/03/2000  08:30:46.000  1495.0       0\n",
       "4  01/03/2000  08:30:53.000  1495.5       0"
      ]
     },
     "execution_count": 2,
     "metadata": {},
     "output_type": "execute_result"
    }
   ],
   "source": [
    "sp500_futures = pd.read_csv(\"../data/sp500_futures_tick_data.csv\")\n",
    "sp500_futures.head()"
   ]
  },
  {
   "cell_type": "code",
   "execution_count": 3,
   "id": "56c4c466",
   "metadata": {},
   "outputs": [
    {
     "name": "stdout",
     "output_type": "stream",
     "text": [
      "01/01/2015\n",
      "12/31/2019\n"
     ]
    }
   ],
   "source": [
    "print(sp500_futures.date.min())\n",
    "print(sp500_futures.date.max())"
   ]
  },
  {
   "cell_type": "markdown",
   "id": "58160908",
   "metadata": {},
   "source": [
    "## 0. Add SP500 spot price"
   ]
  },
  {
   "cell_type": "markdown",
   "id": "89cef861",
   "metadata": {},
   "source": [
    "Join the price of sp500 to sp500_futures with matching date"
   ]
  },
  {
   "cell_type": "code",
   "execution_count": 4,
   "id": "698141f6",
   "metadata": {},
   "outputs": [
    {
     "data": {
      "text/html": [
       "<div>\n",
       "<style scoped>\n",
       "    .dataframe tbody tr th:only-of-type {\n",
       "        vertical-align: middle;\n",
       "    }\n",
       "\n",
       "    .dataframe tbody tr th {\n",
       "        vertical-align: top;\n",
       "    }\n",
       "\n",
       "    .dataframe thead th {\n",
       "        text-align: right;\n",
       "    }\n",
       "</style>\n",
       "<table border=\"1\" class=\"dataframe\">\n",
       "  <thead>\n",
       "    <tr style=\"text-align: right;\">\n",
       "      <th></th>\n",
       "      <th>date</th>\n",
       "      <th>price</th>\n",
       "    </tr>\n",
       "  </thead>\n",
       "  <tbody>\n",
       "    <tr>\n",
       "      <th>0</th>\n",
       "      <td>01/03/1950</td>\n",
       "      <td>16.66</td>\n",
       "    </tr>\n",
       "    <tr>\n",
       "      <th>1</th>\n",
       "      <td>01/04/1950</td>\n",
       "      <td>16.85</td>\n",
       "    </tr>\n",
       "    <tr>\n",
       "      <th>2</th>\n",
       "      <td>01/05/1950</td>\n",
       "      <td>16.93</td>\n",
       "    </tr>\n",
       "    <tr>\n",
       "      <th>3</th>\n",
       "      <td>01/06/1950</td>\n",
       "      <td>16.98</td>\n",
       "    </tr>\n",
       "    <tr>\n",
       "      <th>4</th>\n",
       "      <td>01/09/1950</td>\n",
       "      <td>17.08</td>\n",
       "    </tr>\n",
       "  </tbody>\n",
       "</table>\n",
       "</div>"
      ],
      "text/plain": [
       "         date  price\n",
       "0  01/03/1950  16.66\n",
       "1  01/04/1950  16.85\n",
       "2  01/05/1950  16.93\n",
       "3  01/06/1950  16.98\n",
       "4  01/09/1950  17.08"
      ]
     },
     "execution_count": 4,
     "metadata": {},
     "output_type": "execute_result"
    }
   ],
   "source": [
    "sp500_original = pd.read_csv('../data/sp500.csv')\n",
    "# The time is always \"00:00:00\"\n",
    "sp500 = pd.DataFrame()\n",
    "# Remove the time, which is always 00:00:00\n",
    "sp500['date'] = sp500_original.Date.str.replace(\"00:00:00\", \"\").str.strip()\n",
    "# Change date format to match with dates from sp500_futures\n",
    "sp500['date'] = pd.to_datetime(sp500['date']).dt.strftime('%m/%d/%Y')\n",
    "# Set the price using the adjusted close\n",
    "sp500['price'] = sp500_original['Adj Close']\n",
    "\n",
    "del sp500_original\n",
    "\n",
    "sp500.head()"
   ]
  },
  {
   "cell_type": "code",
   "execution_count": 5,
   "id": "903aff52",
   "metadata": {},
   "outputs": [
    {
     "data": {
      "text/html": [
       "<div>\n",
       "<style scoped>\n",
       "    .dataframe tbody tr th:only-of-type {\n",
       "        vertical-align: middle;\n",
       "    }\n",
       "\n",
       "    .dataframe tbody tr th {\n",
       "        vertical-align: top;\n",
       "    }\n",
       "\n",
       "    .dataframe thead th {\n",
       "        text-align: right;\n",
       "    }\n",
       "</style>\n",
       "<table border=\"1\" class=\"dataframe\">\n",
       "  <thead>\n",
       "    <tr style=\"text-align: right;\">\n",
       "      <th></th>\n",
       "      <th>date</th>\n",
       "      <th>time</th>\n",
       "      <th>price</th>\n",
       "      <th>volume</th>\n",
       "      <th>spot_price</th>\n",
       "    </tr>\n",
       "  </thead>\n",
       "  <tbody>\n",
       "    <tr>\n",
       "      <th>0</th>\n",
       "      <td>01/03/2000</td>\n",
       "      <td>08:30:34.000</td>\n",
       "      <td>1496.4</td>\n",
       "      <td>0</td>\n",
       "      <td>1455.22</td>\n",
       "    </tr>\n",
       "    <tr>\n",
       "      <th>1</th>\n",
       "      <td>01/03/2000</td>\n",
       "      <td>08:30:36.000</td>\n",
       "      <td>1496.0</td>\n",
       "      <td>0</td>\n",
       "      <td>1455.22</td>\n",
       "    </tr>\n",
       "    <tr>\n",
       "      <th>2</th>\n",
       "      <td>01/03/2000</td>\n",
       "      <td>08:30:37.000</td>\n",
       "      <td>1495.5</td>\n",
       "      <td>0</td>\n",
       "      <td>1455.22</td>\n",
       "    </tr>\n",
       "    <tr>\n",
       "      <th>3</th>\n",
       "      <td>01/03/2000</td>\n",
       "      <td>08:30:46.000</td>\n",
       "      <td>1495.0</td>\n",
       "      <td>0</td>\n",
       "      <td>1455.22</td>\n",
       "    </tr>\n",
       "    <tr>\n",
       "      <th>4</th>\n",
       "      <td>01/03/2000</td>\n",
       "      <td>08:30:53.000</td>\n",
       "      <td>1495.5</td>\n",
       "      <td>0</td>\n",
       "      <td>1455.22</td>\n",
       "    </tr>\n",
       "  </tbody>\n",
       "</table>\n",
       "</div>"
      ],
      "text/plain": [
       "         date          time   price  volume  spot_price\n",
       "0  01/03/2000  08:30:34.000  1496.4       0     1455.22\n",
       "1  01/03/2000  08:30:36.000  1496.0       0     1455.22\n",
       "2  01/03/2000  08:30:37.000  1495.5       0     1455.22\n",
       "3  01/03/2000  08:30:46.000  1495.0       0     1455.22\n",
       "4  01/03/2000  08:30:53.000  1495.5       0     1455.22"
      ]
     },
     "execution_count": 5,
     "metadata": {},
     "output_type": "execute_result"
    }
   ],
   "source": [
    "sp500_futures = pd.merge(sp500_futures, sp500, on='date') # inner join by default\n",
    "sp500_futures.rename(columns={'price_x': 'price', 'price_y': 'spot_price'}, inplace=True)\n",
    "sp500_futures.head()"
   ]
  },
  {
   "cell_type": "markdown",
   "id": "369bca81",
   "metadata": {},
   "source": [
    "## 1. Standard bars"
   ]
  },
  {
   "cell_type": "markdown",
   "id": "d4c09ddb",
   "metadata": {},
   "source": [
    "### Convert time bars to tick bars"
   ]
  },
  {
   "cell_type": "markdown",
   "id": "e2d277b8",
   "metadata": {},
   "source": [
    "Note: Pick timestamp when the information was fully available to avoid look-ahead effects\n",
    "\n",
    "Collect all time bars for each day\n",
    "Get the bars for every tick count: date, time, bar_count, open, close, high, low, total_volume, complete\n",
    "\n",
    "1. Is there any pre-hour and post-hour trading activities?\n",
    "Yes, find the min and max of column 'time'\n",
    "\n",
    "2. How to handle incomplete tick bars?\n",
    "Answer: Keep the count of time bars, and add a column named 'complete' to mark if the tick bar is complete or not\n",
    "\n",
    "3. Should I cutoff tick bars for each day? How to handle overnight trading?\n",
    "Answer: For now, let's consider each day from 00:00 to 23:59 as a whole trading day"
   ]
  },
  {
   "cell_type": "code",
   "execution_count": 6,
   "id": "a685a5fc",
   "metadata": {},
   "outputs": [],
   "source": [
    "tick_size = 1000\n",
    "grouped_by_date = sp500_futures.groupby('date')\n",
    "# Within each date group, dividing further into each sub-group of `tick_size' rows\n",
    "sp500_futures['group_in_date'] = grouped_by_date.cumcount() // tick_size"
   ]
  },
  {
   "cell_type": "code",
   "execution_count": 7,
   "id": "5d05e81f",
   "metadata": {},
   "outputs": [],
   "source": [
    "def aggregate_bars(x):\n",
    "    d = {}\n",
    "    d['date'] = x['date'].iloc[-1]\n",
    "    d['time'] = x['time'].iloc[-1]\n",
    "    d['open'] = x['price'].iloc[0]\n",
    "    d['close'] = x['price'].iloc[-1]\n",
    "    d['low'] = x['price'].min()\n",
    "    d['high'] = x['price'].max()\n",
    "    d['spot_price'] = x['spot_price'].iloc[-1] # match with the last date\n",
    "    d['total_volume'] = x['volume'].sum()\n",
    "    # In edge case, d['total_volume'] can be 0 if all volume in the df is 0\n",
    "    d['vol_weighted_avg_price'] = x['price'].dot(x['volume']) / d['total_volume'] if d['total_volume'] else 0\n",
    "    d['count'] = x['date'].count()\n",
    "    return pd.Series(d)"
   ]
  },
  {
   "cell_type": "code",
   "execution_count": 8,
   "id": "a1aa9fcc",
   "metadata": {},
   "outputs": [
    {
     "data": {
      "text/html": [
       "<div>\n",
       "<style scoped>\n",
       "    .dataframe tbody tr th:only-of-type {\n",
       "        vertical-align: middle;\n",
       "    }\n",
       "\n",
       "    .dataframe tbody tr th {\n",
       "        vertical-align: top;\n",
       "    }\n",
       "\n",
       "    .dataframe thead th {\n",
       "        text-align: right;\n",
       "    }\n",
       "</style>\n",
       "<table border=\"1\" class=\"dataframe\">\n",
       "  <thead>\n",
       "    <tr style=\"text-align: right;\">\n",
       "      <th></th>\n",
       "      <th>group_in_date</th>\n",
       "      <th>date</th>\n",
       "      <th>time</th>\n",
       "      <th>open</th>\n",
       "      <th>close</th>\n",
       "      <th>low</th>\n",
       "      <th>high</th>\n",
       "      <th>spot_price</th>\n",
       "      <th>total_volume</th>\n",
       "      <th>vol_weighted_avg_price</th>\n",
       "      <th>count</th>\n",
       "      <th>complete</th>\n",
       "    </tr>\n",
       "  </thead>\n",
       "  <tbody>\n",
       "    <tr>\n",
       "      <th>0</th>\n",
       "      <td>0</td>\n",
       "      <td>01/02/2001</td>\n",
       "      <td>10:30:40.000</td>\n",
       "      <td>1330.0</td>\n",
       "      <td>1312.5</td>\n",
       "      <td>1307.5</td>\n",
       "      <td>1334.8</td>\n",
       "      <td>1283.27</td>\n",
       "      <td>0</td>\n",
       "      <td>0.0</td>\n",
       "      <td>1000</td>\n",
       "      <td>True</td>\n",
       "    </tr>\n",
       "    <tr>\n",
       "      <th>1</th>\n",
       "      <td>1</td>\n",
       "      <td>01/02/2001</td>\n",
       "      <td>12:46:56.000</td>\n",
       "      <td>1312.4</td>\n",
       "      <td>1307.0</td>\n",
       "      <td>1305.0</td>\n",
       "      <td>1315.0</td>\n",
       "      <td>1283.27</td>\n",
       "      <td>0</td>\n",
       "      <td>0.0</td>\n",
       "      <td>1000</td>\n",
       "      <td>True</td>\n",
       "    </tr>\n",
       "    <tr>\n",
       "      <th>2</th>\n",
       "      <td>2</td>\n",
       "      <td>01/02/2001</td>\n",
       "      <td>14:55:41.000</td>\n",
       "      <td>1307.0</td>\n",
       "      <td>1291.5</td>\n",
       "      <td>1289.0</td>\n",
       "      <td>1309.5</td>\n",
       "      <td>1283.27</td>\n",
       "      <td>0</td>\n",
       "      <td>0.0</td>\n",
       "      <td>1000</td>\n",
       "      <td>True</td>\n",
       "    </tr>\n",
       "    <tr>\n",
       "      <th>3</th>\n",
       "      <td>3</td>\n",
       "      <td>01/02/2001</td>\n",
       "      <td>15:14:36.000</td>\n",
       "      <td>1291.0</td>\n",
       "      <td>1299.4</td>\n",
       "      <td>1291.0</td>\n",
       "      <td>1301.0</td>\n",
       "      <td>1283.27</td>\n",
       "      <td>0</td>\n",
       "      <td>0.0</td>\n",
       "      <td>151</td>\n",
       "      <td>False</td>\n",
       "    </tr>\n",
       "    <tr>\n",
       "      <th>4</th>\n",
       "      <td>0</td>\n",
       "      <td>01/02/2002</td>\n",
       "      <td>10:08:00.000</td>\n",
       "      <td>1150.0</td>\n",
       "      <td>1141.2</td>\n",
       "      <td>1136.5</td>\n",
       "      <td>1150.5</td>\n",
       "      <td>1154.67</td>\n",
       "      <td>0</td>\n",
       "      <td>0.0</td>\n",
       "      <td>1000</td>\n",
       "      <td>True</td>\n",
       "    </tr>\n",
       "  </tbody>\n",
       "</table>\n",
       "</div>"
      ],
      "text/plain": [
       "   group_in_date        date          time    open   close     low    high  \\\n",
       "0              0  01/02/2001  10:30:40.000  1330.0  1312.5  1307.5  1334.8   \n",
       "1              1  01/02/2001  12:46:56.000  1312.4  1307.0  1305.0  1315.0   \n",
       "2              2  01/02/2001  14:55:41.000  1307.0  1291.5  1289.0  1309.5   \n",
       "3              3  01/02/2001  15:14:36.000  1291.0  1299.4  1291.0  1301.0   \n",
       "4              0  01/02/2002  10:08:00.000  1150.0  1141.2  1136.5  1150.5   \n",
       "\n",
       "   spot_price  total_volume  vol_weighted_avg_price  count  complete  \n",
       "0     1283.27             0                     0.0   1000      True  \n",
       "1     1283.27             0                     0.0   1000      True  \n",
       "2     1283.27             0                     0.0   1000      True  \n",
       "3     1283.27             0                     0.0    151     False  \n",
       "4     1154.67             0                     0.0   1000      True  "
      ]
     },
     "execution_count": 8,
     "metadata": {},
     "output_type": "execute_result"
    }
   ],
   "source": [
    "sp500_futures_ticks = sp500_futures.groupby(['date', 'group_in_date'], as_index=False).apply(aggregate_bars)\n",
    "sp500_futures_ticks['complete'] = sp500_futures_ticks['count'] == tick_size\n",
    "sp500_futures_ticks.head()"
   ]
  },
  {
   "cell_type": "markdown",
   "id": "786242f5",
   "metadata": {},
   "source": [
    "### Convert time bars to volume bars"
   ]
  },
  {
   "cell_type": "code",
   "execution_count": 9,
   "id": "46ed3d96",
   "metadata": {},
   "outputs": [],
   "source": [
    "volume_size = 1000\n",
    "sp500_futures['volume_group'] = sp500_futures.volume.cumsum() // volume_size"
   ]
  },
  {
   "cell_type": "code",
   "execution_count": 10,
   "id": "b959bba6",
   "metadata": {},
   "outputs": [
    {
     "data": {
      "text/html": [
       "<div>\n",
       "<style scoped>\n",
       "    .dataframe tbody tr th:only-of-type {\n",
       "        vertical-align: middle;\n",
       "    }\n",
       "\n",
       "    .dataframe tbody tr th {\n",
       "        vertical-align: top;\n",
       "    }\n",
       "\n",
       "    .dataframe thead th {\n",
       "        text-align: right;\n",
       "    }\n",
       "</style>\n",
       "<table border=\"1\" class=\"dataframe\">\n",
       "  <thead>\n",
       "    <tr style=\"text-align: right;\">\n",
       "      <th></th>\n",
       "      <th>volume_group</th>\n",
       "      <th>date</th>\n",
       "      <th>time</th>\n",
       "      <th>open</th>\n",
       "      <th>close</th>\n",
       "      <th>low</th>\n",
       "      <th>high</th>\n",
       "      <th>spot_price</th>\n",
       "      <th>total_volume</th>\n",
       "      <th>vol_weighted_avg_price</th>\n",
       "      <th>count</th>\n",
       "    </tr>\n",
       "  </thead>\n",
       "  <tbody>\n",
       "    <tr>\n",
       "      <th>0</th>\n",
       "      <td>0</td>\n",
       "      <td>07/01/2003</td>\n",
       "      <td>03:13:12.000</td>\n",
       "      <td>1496.4</td>\n",
       "      <td>971.8</td>\n",
       "      <td>767.5</td>\n",
       "      <td>1574.0</td>\n",
       "      <td>982.32</td>\n",
       "      <td>997</td>\n",
       "      <td>973.188365</td>\n",
       "      <td>2813357</td>\n",
       "    </tr>\n",
       "    <tr>\n",
       "      <th>1</th>\n",
       "      <td>1</td>\n",
       "      <td>07/01/2003</td>\n",
       "      <td>06:27:39.000</td>\n",
       "      <td>971.9</td>\n",
       "      <td>971.1</td>\n",
       "      <td>971.1</td>\n",
       "      <td>973.2</td>\n",
       "      <td>982.32</td>\n",
       "      <td>999</td>\n",
       "      <td>972.021121</td>\n",
       "      <td>524</td>\n",
       "    </tr>\n",
       "    <tr>\n",
       "      <th>2</th>\n",
       "      <td>2</td>\n",
       "      <td>07/01/2003</td>\n",
       "      <td>07:43:08.000</td>\n",
       "      <td>971.3</td>\n",
       "      <td>968.3</td>\n",
       "      <td>967.6</td>\n",
       "      <td>972.0</td>\n",
       "      <td>982.32</td>\n",
       "      <td>1003</td>\n",
       "      <td>970.340678</td>\n",
       "      <td>451</td>\n",
       "    </tr>\n",
       "    <tr>\n",
       "      <th>3</th>\n",
       "      <td>3</td>\n",
       "      <td>07/01/2003</td>\n",
       "      <td>15:56:37.000</td>\n",
       "      <td>968.0</td>\n",
       "      <td>981.6</td>\n",
       "      <td>960.5</td>\n",
       "      <td>982.4</td>\n",
       "      <td>982.32</td>\n",
       "      <td>1000</td>\n",
       "      <td>969.736700</td>\n",
       "      <td>3448</td>\n",
       "    </tr>\n",
       "    <tr>\n",
       "      <th>4</th>\n",
       "      <td>4</td>\n",
       "      <td>07/02/2003</td>\n",
       "      <td>01:26:16.000</td>\n",
       "      <td>981.7</td>\n",
       "      <td>982.5</td>\n",
       "      <td>981.3</td>\n",
       "      <td>984.0</td>\n",
       "      <td>993.75</td>\n",
       "      <td>999</td>\n",
       "      <td>982.660761</td>\n",
       "      <td>416</td>\n",
       "    </tr>\n",
       "  </tbody>\n",
       "</table>\n",
       "</div>"
      ],
      "text/plain": [
       "   volume_group        date          time    open  close    low    high  \\\n",
       "0             0  07/01/2003  03:13:12.000  1496.4  971.8  767.5  1574.0   \n",
       "1             1  07/01/2003  06:27:39.000   971.9  971.1  971.1   973.2   \n",
       "2             2  07/01/2003  07:43:08.000   971.3  968.3  967.6   972.0   \n",
       "3             3  07/01/2003  15:56:37.000   968.0  981.6  960.5   982.4   \n",
       "4             4  07/02/2003  01:26:16.000   981.7  982.5  981.3   984.0   \n",
       "\n",
       "   spot_price  total_volume  vol_weighted_avg_price    count  \n",
       "0      982.32           997              973.188365  2813357  \n",
       "1      982.32           999              972.021121      524  \n",
       "2      982.32          1003              970.340678      451  \n",
       "3      982.32          1000              969.736700     3448  \n",
       "4      993.75           999              982.660761      416  "
      ]
     },
     "execution_count": 10,
     "metadata": {},
     "output_type": "execute_result"
    }
   ],
   "source": [
    "sp500_futures_volumes = sp500_futures.groupby('volume_group', as_index=False).apply(aggregate_bars)\n",
    "sp500_futures_volumes.head()"
   ]
  },
  {
   "cell_type": "markdown",
   "id": "7720b5b8",
   "metadata": {},
   "source": [
    "### Convert time bars to dollar bars"
   ]
  },
  {
   "cell_type": "code",
   "execution_count": 11,
   "id": "e8b09ded",
   "metadata": {},
   "outputs": [
    {
     "data": {
      "text/html": [
       "<div>\n",
       "<style scoped>\n",
       "    .dataframe tbody tr th:only-of-type {\n",
       "        vertical-align: middle;\n",
       "    }\n",
       "\n",
       "    .dataframe tbody tr th {\n",
       "        vertical-align: top;\n",
       "    }\n",
       "\n",
       "    .dataframe thead th {\n",
       "        text-align: right;\n",
       "    }\n",
       "</style>\n",
       "<table border=\"1\" class=\"dataframe\">\n",
       "  <thead>\n",
       "    <tr style=\"text-align: right;\">\n",
       "      <th></th>\n",
       "      <th>date</th>\n",
       "      <th>time</th>\n",
       "      <th>price</th>\n",
       "      <th>volume</th>\n",
       "      <th>spot_price</th>\n",
       "      <th>group_in_date</th>\n",
       "      <th>volume_group</th>\n",
       "      <th>dollar</th>\n",
       "      <th>dollar_group</th>\n",
       "    </tr>\n",
       "  </thead>\n",
       "  <tbody>\n",
       "    <tr>\n",
       "      <th>0</th>\n",
       "      <td>01/03/2000</td>\n",
       "      <td>08:30:34.000</td>\n",
       "      <td>1496.4</td>\n",
       "      <td>0</td>\n",
       "      <td>1455.22</td>\n",
       "      <td>0</td>\n",
       "      <td>0</td>\n",
       "      <td>0.0</td>\n",
       "      <td>0</td>\n",
       "    </tr>\n",
       "    <tr>\n",
       "      <th>1</th>\n",
       "      <td>01/03/2000</td>\n",
       "      <td>08:30:36.000</td>\n",
       "      <td>1496.0</td>\n",
       "      <td>0</td>\n",
       "      <td>1455.22</td>\n",
       "      <td>0</td>\n",
       "      <td>0</td>\n",
       "      <td>0.0</td>\n",
       "      <td>0</td>\n",
       "    </tr>\n",
       "    <tr>\n",
       "      <th>2</th>\n",
       "      <td>01/03/2000</td>\n",
       "      <td>08:30:37.000</td>\n",
       "      <td>1495.5</td>\n",
       "      <td>0</td>\n",
       "      <td>1455.22</td>\n",
       "      <td>0</td>\n",
       "      <td>0</td>\n",
       "      <td>0.0</td>\n",
       "      <td>0</td>\n",
       "    </tr>\n",
       "    <tr>\n",
       "      <th>3</th>\n",
       "      <td>01/03/2000</td>\n",
       "      <td>08:30:46.000</td>\n",
       "      <td>1495.0</td>\n",
       "      <td>0</td>\n",
       "      <td>1455.22</td>\n",
       "      <td>0</td>\n",
       "      <td>0</td>\n",
       "      <td>0.0</td>\n",
       "      <td>0</td>\n",
       "    </tr>\n",
       "    <tr>\n",
       "      <th>4</th>\n",
       "      <td>01/03/2000</td>\n",
       "      <td>08:30:53.000</td>\n",
       "      <td>1495.5</td>\n",
       "      <td>0</td>\n",
       "      <td>1455.22</td>\n",
       "      <td>0</td>\n",
       "      <td>0</td>\n",
       "      <td>0.0</td>\n",
       "      <td>0</td>\n",
       "    </tr>\n",
       "  </tbody>\n",
       "</table>\n",
       "</div>"
      ],
      "text/plain": [
       "         date          time   price  volume  spot_price  group_in_date  \\\n",
       "0  01/03/2000  08:30:34.000  1496.4       0     1455.22              0   \n",
       "1  01/03/2000  08:30:36.000  1496.0       0     1455.22              0   \n",
       "2  01/03/2000  08:30:37.000  1495.5       0     1455.22              0   \n",
       "3  01/03/2000  08:30:46.000  1495.0       0     1455.22              0   \n",
       "4  01/03/2000  08:30:53.000  1495.5       0     1455.22              0   \n",
       "\n",
       "   volume_group  dollar  dollar_group  \n",
       "0             0     0.0             0  \n",
       "1             0     0.0             0  \n",
       "2             0     0.0             0  \n",
       "3             0     0.0             0  \n",
       "4             0     0.0             0  "
      ]
     },
     "execution_count": 11,
     "metadata": {},
     "output_type": "execute_result"
    }
   ],
   "source": [
    "dollar_size = 1000000\n",
    "sp500_futures['dollar'] = sp500_futures.price * sp500_futures.volume\n",
    "sp500_futures['dollar_group'] = sp500_futures['dollar'].cumsum().astype(int) // dollar_size\n",
    "sp500_futures.head()"
   ]
  },
  {
   "cell_type": "code",
   "execution_count": 12,
   "id": "c65be6ad",
   "metadata": {},
   "outputs": [],
   "source": [
    "def aggregate_dollar_bars(x):\n",
    "    d = {}\n",
    "    d['date'] = x['date'].iloc[-1]\n",
    "    d['time'] = x['time'].iloc[-1]\n",
    "    d['open'] = x['price'].iloc[0]\n",
    "    d['close'] = x['price'].iloc[-1]\n",
    "    d['low'] = x['price'].min()\n",
    "    d['high'] = x['price'].max()\n",
    "    d['spot_price'] = x['spot_price'].iloc[-1]\n",
    "    d['total_volume'] = x['volume'].sum()\n",
    "    # In edge case, d['total_volume'] can be 0 if all volume in the df is 0\n",
    "    d['vol_weighted_avg_price'] = x['price'].dot(x['volume']) / d['total_volume'] if d['total_volume'] else 0\n",
    "    d['dollar'] = x['dollar'].sum()\n",
    "    d['count'] = x['date'].count()\n",
    "    return pd.Series(d)"
   ]
  },
  {
   "cell_type": "code",
   "execution_count": 13,
   "id": "aab6f4d9",
   "metadata": {},
   "outputs": [
    {
     "data": {
      "text/html": [
       "<div>\n",
       "<style scoped>\n",
       "    .dataframe tbody tr th:only-of-type {\n",
       "        vertical-align: middle;\n",
       "    }\n",
       "\n",
       "    .dataframe tbody tr th {\n",
       "        vertical-align: top;\n",
       "    }\n",
       "\n",
       "    .dataframe thead th {\n",
       "        text-align: right;\n",
       "    }\n",
       "</style>\n",
       "<table border=\"1\" class=\"dataframe\">\n",
       "  <thead>\n",
       "    <tr style=\"text-align: right;\">\n",
       "      <th></th>\n",
       "      <th>dollar_group</th>\n",
       "      <th>date</th>\n",
       "      <th>time</th>\n",
       "      <th>open</th>\n",
       "      <th>close</th>\n",
       "      <th>low</th>\n",
       "      <th>high</th>\n",
       "      <th>spot_price</th>\n",
       "      <th>total_volume</th>\n",
       "      <th>vol_weighted_avg_price</th>\n",
       "      <th>dollar</th>\n",
       "      <th>count</th>\n",
       "    </tr>\n",
       "  </thead>\n",
       "  <tbody>\n",
       "    <tr>\n",
       "      <th>0</th>\n",
       "      <td>0</td>\n",
       "      <td>07/01/2003</td>\n",
       "      <td>03:16:30.000</td>\n",
       "      <td>1496.4</td>\n",
       "      <td>971.8</td>\n",
       "      <td>767.5</td>\n",
       "      <td>1574.0</td>\n",
       "      <td>982.32</td>\n",
       "      <td>1027</td>\n",
       "      <td>973.153262</td>\n",
       "      <td>999428.4</td>\n",
       "      <td>2813371</td>\n",
       "    </tr>\n",
       "    <tr>\n",
       "      <th>1</th>\n",
       "      <td>1</td>\n",
       "      <td>07/01/2003</td>\n",
       "      <td>06:32:03.000</td>\n",
       "      <td>971.9</td>\n",
       "      <td>971.3</td>\n",
       "      <td>971.1</td>\n",
       "      <td>973.2</td>\n",
       "      <td>982.32</td>\n",
       "      <td>1029</td>\n",
       "      <td>971.973761</td>\n",
       "      <td>1000161.0</td>\n",
       "      <td>532</td>\n",
       "    </tr>\n",
       "    <tr>\n",
       "      <th>2</th>\n",
       "      <td>2</td>\n",
       "      <td>07/01/2003</td>\n",
       "      <td>07:44:30.000</td>\n",
       "      <td>971.3</td>\n",
       "      <td>968.2</td>\n",
       "      <td>967.6</td>\n",
       "      <td>972.0</td>\n",
       "      <td>982.32</td>\n",
       "      <td>1021</td>\n",
       "      <td>970.135260</td>\n",
       "      <td>990508.1</td>\n",
       "      <td>468</td>\n",
       "    </tr>\n",
       "    <tr>\n",
       "      <th>3</th>\n",
       "      <td>3</td>\n",
       "      <td>07/01/2003</td>\n",
       "      <td>16:22:22.000</td>\n",
       "      <td>968.1</td>\n",
       "      <td>982.4</td>\n",
       "      <td>960.5</td>\n",
       "      <td>982.4</td>\n",
       "      <td>982.32</td>\n",
       "      <td>1039</td>\n",
       "      <td>971.218479</td>\n",
       "      <td>1009096.0</td>\n",
       "      <td>3447</td>\n",
       "    </tr>\n",
       "    <tr>\n",
       "      <th>4</th>\n",
       "      <td>4</td>\n",
       "      <td>07/02/2003</td>\n",
       "      <td>01:51:04.000</td>\n",
       "      <td>982.2</td>\n",
       "      <td>983.1</td>\n",
       "      <td>981.3</td>\n",
       "      <td>984.0</td>\n",
       "      <td>993.75</td>\n",
       "      <td>1017</td>\n",
       "      <td>982.785251</td>\n",
       "      <td>999492.6</td>\n",
       "      <td>428</td>\n",
       "    </tr>\n",
       "  </tbody>\n",
       "</table>\n",
       "</div>"
      ],
      "text/plain": [
       "   dollar_group        date          time    open  close    low    high  \\\n",
       "0             0  07/01/2003  03:16:30.000  1496.4  971.8  767.5  1574.0   \n",
       "1             1  07/01/2003  06:32:03.000   971.9  971.3  971.1   973.2   \n",
       "2             2  07/01/2003  07:44:30.000   971.3  968.2  967.6   972.0   \n",
       "3             3  07/01/2003  16:22:22.000   968.1  982.4  960.5   982.4   \n",
       "4             4  07/02/2003  01:51:04.000   982.2  983.1  981.3   984.0   \n",
       "\n",
       "   spot_price  total_volume  vol_weighted_avg_price     dollar    count  \n",
       "0      982.32          1027              973.153262   999428.4  2813371  \n",
       "1      982.32          1029              971.973761  1000161.0      532  \n",
       "2      982.32          1021              970.135260   990508.1      468  \n",
       "3      982.32          1039              971.218479  1009096.0     3447  \n",
       "4      993.75          1017              982.785251   999492.6      428  "
      ]
     },
     "execution_count": 13,
     "metadata": {},
     "output_type": "execute_result"
    }
   ],
   "source": [
    "sp500_futures_dollar = sp500_futures.groupby('dollar_group', as_index=False).apply(aggregate_dollar_bars)\n",
    "sp500_futures_dollar.head()"
   ]
  },
  {
   "cell_type": "markdown",
   "id": "412dc458",
   "metadata": {},
   "source": [
    "## 2. Information-driven bars (TODO later)"
   ]
  },
  {
   "cell_type": "code",
   "execution_count": 14,
   "id": "2fc861c7",
   "metadata": {},
   "outputs": [],
   "source": [
    "sp500_futures['next_price'] = sp500_futures.price.shift(-1)"
   ]
  },
  {
   "cell_type": "code",
   "execution_count": 15,
   "id": "37e31fe0",
   "metadata": {},
   "outputs": [
    {
     "data": {
      "text/html": [
       "<div>\n",
       "<style scoped>\n",
       "    .dataframe tbody tr th:only-of-type {\n",
       "        vertical-align: middle;\n",
       "    }\n",
       "\n",
       "    .dataframe tbody tr th {\n",
       "        vertical-align: top;\n",
       "    }\n",
       "\n",
       "    .dataframe thead th {\n",
       "        text-align: right;\n",
       "    }\n",
       "</style>\n",
       "<table border=\"1\" class=\"dataframe\">\n",
       "  <thead>\n",
       "    <tr style=\"text-align: right;\">\n",
       "      <th></th>\n",
       "      <th>date</th>\n",
       "      <th>time</th>\n",
       "      <th>price</th>\n",
       "      <th>volume</th>\n",
       "      <th>spot_price</th>\n",
       "      <th>group_in_date</th>\n",
       "      <th>volume_group</th>\n",
       "      <th>dollar</th>\n",
       "      <th>dollar_group</th>\n",
       "      <th>next_price</th>\n",
       "      <th>delta_p</th>\n",
       "      <th>tick_b_t</th>\n",
       "    </tr>\n",
       "  </thead>\n",
       "  <tbody>\n",
       "    <tr>\n",
       "      <th>0</th>\n",
       "      <td>01/03/2000</td>\n",
       "      <td>08:30:34.000</td>\n",
       "      <td>1496.4</td>\n",
       "      <td>0</td>\n",
       "      <td>1455.22</td>\n",
       "      <td>0</td>\n",
       "      <td>0</td>\n",
       "      <td>0.0</td>\n",
       "      <td>0</td>\n",
       "      <td>1496.0</td>\n",
       "      <td>-0.4</td>\n",
       "      <td>-1.0</td>\n",
       "    </tr>\n",
       "    <tr>\n",
       "      <th>1</th>\n",
       "      <td>01/03/2000</td>\n",
       "      <td>08:30:36.000</td>\n",
       "      <td>1496.0</td>\n",
       "      <td>0</td>\n",
       "      <td>1455.22</td>\n",
       "      <td>0</td>\n",
       "      <td>0</td>\n",
       "      <td>0.0</td>\n",
       "      <td>0</td>\n",
       "      <td>1495.5</td>\n",
       "      <td>-0.5</td>\n",
       "      <td>-1.0</td>\n",
       "    </tr>\n",
       "    <tr>\n",
       "      <th>2</th>\n",
       "      <td>01/03/2000</td>\n",
       "      <td>08:30:37.000</td>\n",
       "      <td>1495.5</td>\n",
       "      <td>0</td>\n",
       "      <td>1455.22</td>\n",
       "      <td>0</td>\n",
       "      <td>0</td>\n",
       "      <td>0.0</td>\n",
       "      <td>0</td>\n",
       "      <td>1495.0</td>\n",
       "      <td>-0.5</td>\n",
       "      <td>-1.0</td>\n",
       "    </tr>\n",
       "    <tr>\n",
       "      <th>3</th>\n",
       "      <td>01/03/2000</td>\n",
       "      <td>08:30:46.000</td>\n",
       "      <td>1495.0</td>\n",
       "      <td>0</td>\n",
       "      <td>1455.22</td>\n",
       "      <td>0</td>\n",
       "      <td>0</td>\n",
       "      <td>0.0</td>\n",
       "      <td>0</td>\n",
       "      <td>1495.5</td>\n",
       "      <td>0.5</td>\n",
       "      <td>1.0</td>\n",
       "    </tr>\n",
       "    <tr>\n",
       "      <th>4</th>\n",
       "      <td>01/03/2000</td>\n",
       "      <td>08:30:53.000</td>\n",
       "      <td>1495.5</td>\n",
       "      <td>0</td>\n",
       "      <td>1455.22</td>\n",
       "      <td>0</td>\n",
       "      <td>0</td>\n",
       "      <td>0.0</td>\n",
       "      <td>0</td>\n",
       "      <td>1495.0</td>\n",
       "      <td>-0.5</td>\n",
       "      <td>-1.0</td>\n",
       "    </tr>\n",
       "  </tbody>\n",
       "</table>\n",
       "</div>"
      ],
      "text/plain": [
       "         date          time   price  volume  spot_price  group_in_date  \\\n",
       "0  01/03/2000  08:30:34.000  1496.4       0     1455.22              0   \n",
       "1  01/03/2000  08:30:36.000  1496.0       0     1455.22              0   \n",
       "2  01/03/2000  08:30:37.000  1495.5       0     1455.22              0   \n",
       "3  01/03/2000  08:30:46.000  1495.0       0     1455.22              0   \n",
       "4  01/03/2000  08:30:53.000  1495.5       0     1455.22              0   \n",
       "\n",
       "   volume_group  dollar  dollar_group  next_price  delta_p  tick_b_t  \n",
       "0             0     0.0             0      1496.0     -0.4      -1.0  \n",
       "1             0     0.0             0      1495.5     -0.5      -1.0  \n",
       "2             0     0.0             0      1495.0     -0.5      -1.0  \n",
       "3             0     0.0             0      1495.5      0.5       1.0  \n",
       "4             0     0.0             0      1495.0     -0.5      -1.0  "
      ]
     },
     "execution_count": 15,
     "metadata": {},
     "output_type": "execute_result"
    }
   ],
   "source": [
    "sp500_futures['delta_p'] = sp500_futures.next_price - sp500_futures.price\n",
    "sp500_futures.dropna(inplace=True)\n",
    "\n",
    "# Initialize to 0s\n",
    "sp500_futures['tick_b_t'] = np.where(sp500_futures['delta_p'] == 0, 0, np.sign(sp500_futures['delta_p']))\n",
    "sp500_futures.head()"
   ]
  },
  {
   "cell_type": "markdown",
   "id": "ec1c8b1a",
   "metadata": {},
   "source": [
    "## 3. ETF Rolling (TODO later)"
   ]
  },
  {
   "cell_type": "code",
   "execution_count": 16,
   "id": "ada5a856-3d02-4510-868b-f11de451228d",
   "metadata": {},
   "outputs": [],
   "source": [
    "import nasdaqdatalink"
   ]
  },
  {
   "cell_type": "markdown",
   "id": "307e5b2b-9ea9-49d7-8227-30bd53ed2bbd",
   "metadata": {},
   "source": [
    "## 4. Plot the number of ticks per week"
   ]
  },
  {
   "cell_type": "code",
   "execution_count": 17,
   "id": "63165447-835f-4c02-9c7d-03ce78c35616",
   "metadata": {},
   "outputs": [
    {
     "data": {
      "text/plain": [
       "date\n",
       "2000-01-09    24\n",
       "2000-01-16    24\n",
       "2000-01-23    20\n",
       "2000-01-30    23\n",
       "2000-02-06    21\n",
       "Freq: W-SUN, Name: date, dtype: int64"
      ]
     },
     "execution_count": 17,
     "metadata": {},
     "output_type": "execute_result"
    }
   ],
   "source": [
    "sp500_futures_ticks['date'] = pd.to_datetime(sp500_futures_ticks['date'])\n",
    "weekly_tick_bars_count = sp500_futures_ticks.groupby([pd.Grouper(key='date', freq='W')])['date'].count()\n",
    "weekly_tick_bars_count.head()"
   ]
  },
  {
   "cell_type": "code",
   "execution_count": 18,
   "id": "f8763754-7d05-48a6-9032-60f5e9af2dd5",
   "metadata": {
    "scrolled": true
   },
   "outputs": [
    {
     "data": {
      "text/plain": [
       "<Axes: xlabel='date'>"
      ]
     },
     "execution_count": 18,
     "metadata": {},
     "output_type": "execute_result"
    },
    {
     "data": {
      "image/png": "[encoded data removed]",
      "text/plain": [
       "<Figure size 640x480 with 1 Axes>"
      ]
     },
     "metadata": {},
     "output_type": "display_data"
    }
   ],
   "source": [
    "weekly_tick_bars_count.plot()"
   ]
  },
  {
   "cell_type": "code",
   "execution_count": 19,
   "id": "9f419303-b9cd-4029-852c-0d9ea1364c16",
   "metadata": {},
   "outputs": [
    {
     "data": {
      "text/plain": [
       "date\n",
       "2003-07-06    14\n",
       "2003-07-13    27\n",
       "2003-07-20    28\n",
       "2003-07-27    22\n",
       "2003-08-03    21\n",
       "Freq: W-SUN, Name: date, dtype: int64"
      ]
     },
     "execution_count": 19,
     "metadata": {},
     "output_type": "execute_result"
    }
   ],
   "source": [
    "sp500_futures_volumes['date'] = pd.to_datetime(sp500_futures_volumes['date'])\n",
    "weekly_volume_bars_count = sp500_futures_volumes.groupby([pd.Grouper(key='date', freq='W')])['date'].count()\n",
    "weekly_volume_bars_count.head()"
   ]
  },
  {
   "cell_type": "code",
   "execution_count": 20,
   "id": "4e223ab9-a94a-4bc3-a396-289a87cf19bc",
   "metadata": {},
   "outputs": [
    {
     "data": {
      "text/plain": [
       "<Axes: xlabel='date'>"
      ]
     },
     "execution_count": 20,
     "metadata": {},
     "output_type": "execute_result"
    },
    {
     "data": {
      "image/png": "[encoded data removed]",
      "text/plain": [
       "<Figure size 640x480 with 1 Axes>"
      ]
     },
     "metadata": {},
     "output_type": "display_data"
    }
   ],
   "source": [
    "weekly_volume_bars_count.plot()"
   ]
  },
  {
   "cell_type": "code",
   "execution_count": 21,
   "id": "d7209a09-339f-4394-9122-21cbca07d108",
   "metadata": {},
   "outputs": [
    {
     "data": {
      "text/plain": [
       "date\n",
       "2003-07-06    14\n",
       "2003-07-13    26\n",
       "2003-07-20    29\n",
       "2003-07-27    21\n",
       "2003-08-03    21\n",
       "Freq: W-SUN, Name: date, dtype: int64"
      ]
     },
     "execution_count": 21,
     "metadata": {},
     "output_type": "execute_result"
    }
   ],
   "source": [
    "sp500_futures_dollar['date'] = pd.to_datetime(sp500_futures_dollar['date'])\n",
    "weekly_dollar_bars_count = sp500_futures_dollar.groupby([pd.Grouper(key='date', freq='W')])['date'].count()\n",
    "weekly_dollar_bars_count.head()"
   ]
  },
  {
   "cell_type": "code",
   "execution_count": 22,
   "id": "1a5df6e0-c9e9-479d-ad32-6c338bd04d2b",
   "metadata": {},
   "outputs": [
    {
     "data": {
      "text/plain": [
       "<Axes: xlabel='date'>"
      ]
     },
     "execution_count": 22,
     "metadata": {},
     "output_type": "execute_result"
    },
    {
     "data": {
      "image/png": "[encoded data removed]",
      "text/plain": [
       "<Figure size 640x480 with 1 Axes>"
      ]
     },
     "metadata": {},
     "output_type": "display_data"
    }
   ],
   "source": [
    "weekly_dollar_bars_count.plot()"
   ]
  },
  {
   "cell_type": "markdown",
   "id": "91b4ddd2-a1cc-4ead-aaa0-6933c41fea9f",
   "metadata": {},
   "source": [
    "## 5. Compute serial correlation for each type of ticks data"
   ]
  },
  {
   "cell_type": "code",
   "execution_count": 23,
   "id": "7661fb25-e865-4d2a-ad94-28896a2d402a",
   "metadata": {},
   "outputs": [
    {
     "data": {
      "text/plain": [
       "open                      0.751639\n",
       "close                     0.751922\n",
       "high                      0.752154\n",
       "total_volume              0.264479\n",
       "vol_weighted_avg_price    0.516623\n",
       "dtype: float64"
      ]
     },
     "execution_count": 23,
     "metadata": {},
     "output_type": "execute_result"
    }
   ],
   "source": [
    "# sp500_futures_ticks.head()\n",
    "sp500_futures_ticks[['open', 'close', 'high', 'total_volume', 'vol_weighted_avg_price']].apply(lambda x: x.autocorr(lag=1))"
   ]
  },
  {
   "cell_type": "code",
   "execution_count": 24,
   "id": "db896382-b079-4362-96f9-d763389bba9f",
   "metadata": {},
   "outputs": [
    {
     "data": {
      "text/plain": [
       "open                      0.999227\n",
       "close                     0.999395\n",
       "high                      0.999193\n",
       "total_volume              0.159656\n",
       "vol_weighted_avg_price    0.999593\n",
       "dtype: float64"
      ]
     },
     "execution_count": 24,
     "metadata": {},
     "output_type": "execute_result"
    }
   ],
   "source": [
    "# sp500_futures_volumes.head()\n",
    "sp500_futures_volumes[['open', 'close', 'high', 'total_volume', 'vol_weighted_avg_price']].apply(lambda x: x.autocorr(lag=1))"
   ]
  },
  {
   "cell_type": "code",
   "execution_count": 25,
   "id": "da7bc22b-9f1d-4a7c-b169-2797ad36a73b",
   "metadata": {},
   "outputs": [
    {
     "data": {
      "text/plain": [
       "open                      0.999525\n",
       "close                     0.999627\n",
       "high                      0.999491\n",
       "total_volume              0.713937\n",
       "vol_weighted_avg_price    0.999741\n",
       "dtype: float64"
      ]
     },
     "execution_count": 25,
     "metadata": {},
     "output_type": "execute_result"
    }
   ],
   "source": [
    "sp500_futures_dollar[['open', 'close', 'high', 'total_volume', 'vol_weighted_avg_price']].apply(lambda x: x.autocorr(lag=1))"
   ]
  },
  {
   "cell_type": "markdown",
   "id": "e5d87ac4-7417-41cf-8fca-e35ddfbddae4",
   "metadata": {},
   "source": [
    "## 6. Compute the variance of returns for each month, then the variance of variances for each tick type"
   ]
  },
  {
   "cell_type": "code",
   "execution_count": 26,
   "id": "18ec060f-ded0-4ed3-8027-b2b9b6ae5168",
   "metadata": {},
   "outputs": [
    {
     "data": {
      "text/plain": [
       "intraday_simple_return    2.599631e-01\n",
       "intraday_log_return       2.634342e-09\n",
       "dtype: float64"
      ]
     },
     "execution_count": 26,
     "metadata": {},
     "output_type": "execute_result"
    }
   ],
   "source": [
    "sp500_futures_ticks['intraday_simple_return'] = (sp500_futures_ticks.close - sp500_futures_ticks.open) / sp500_futures_ticks.open * 100\n",
    "sp500_futures_ticks['intraday_log_return'] = np.log(sp500_futures_ticks.close / sp500_futures_ticks.open)\n",
    "sp500_futures_ticks.groupby(pd.Grouper(key='date', freq='M'))[['intraday_simple_return', 'intraday_log_return']].var().var()"
   ]
  },
  {
   "cell_type": "code",
   "execution_count": 27,
   "id": "e1c82346-15fd-47b5-b98b-32afb93ee7df",
   "metadata": {},
   "outputs": [
    {
     "data": {
      "text/plain": [
       "intraday_simple_return    2.747870e+00\n",
       "intraday_log_return       3.720673e-08\n",
       "dtype: float64"
      ]
     },
     "execution_count": 27,
     "metadata": {},
     "output_type": "execute_result"
    }
   ],
   "source": [
    "sp500_futures_volumes['intraday_simple_return'] = (sp500_futures_volumes.close - sp500_futures_volumes.open) / sp500_futures_volumes.open * 100\n",
    "sp500_futures_volumes['intraday_log_return'] = np.log(sp500_futures_volumes.close / sp500_futures_volumes.open)\n",
    "sp500_futures_volumes.groupby(pd.Grouper(key='date', freq='M'))[['intraday_simple_return', 'intraday_log_return']].var().var()"
   ]
  },
  {
   "cell_type": "code",
   "execution_count": 28,
   "id": "68bdb163-6401-4cdd-afd3-89dbfab66bdb",
   "metadata": {},
   "outputs": [
    {
     "data": {
      "text/plain": [
       "intraday_simple_return    1.208934e+00\n",
       "intraday_log_return       2.157367e-08\n",
       "dtype: float64"
      ]
     },
     "execution_count": 28,
     "metadata": {},
     "output_type": "execute_result"
    }
   ],
   "source": [
    "sp500_futures_dollar['intraday_simple_return'] = (sp500_futures_dollar.close - sp500_futures_dollar.open) / sp500_futures_dollar.open * 100\n",
    "sp500_futures_dollar['intraday_log_return'] = np.log(sp500_futures_dollar.close / sp500_futures_dollar.open)\n",
    "sp500_futures_dollar.groupby(pd.Grouper(key='date', freq='M'))[['intraday_simple_return', 'intraday_log_return']].var().var()"
   ]
  },
  {
   "cell_type": "code",
   "execution_count": 29,
   "id": "df3d0d59-24b3-4a62-b7d9-f229c09bce21",
   "metadata": {},
   "outputs": [
    {
     "name": "stdout",
     "output_type": "stream",
     "text": [
      "SignificanceResult(statistic=80733.99094541131, pvalue=0.0)\n",
      "SignificanceResult(statistic=78485.75949911484, pvalue=0.0)\n"
     ]
    }
   ],
   "source": [
    "# Reject the Normal hypothesis if pvalue < 0.05\n",
    "print(stats.jarque_bera(sp500_futures_ticks['intraday_simple_return']))\n",
    "print(stats.jarque_bera(sp500_futures_ticks['intraday_log_return']))"
   ]
  },
  {
   "cell_type": "code",
   "execution_count": 30,
   "id": "433379ba-d7ae-4622-bc2f-8bd8bd564d51",
   "metadata": {},
   "outputs": [
    {
     "name": "stdout",
     "output_type": "stream",
     "text": [
      "SignificanceResult(statistic=87956379.73192804, pvalue=0.0)\n",
      "SignificanceResult(statistic=298896556.46587044, pvalue=0.0)\n"
     ]
    }
   ],
   "source": [
    "print(stats.jarque_bera(sp500_futures_volumes['intraday_simple_return']))\n",
    "print(stats.jarque_bera(sp500_futures_volumes['intraday_log_return']))"
   ]
  },
  {
   "cell_type": "code",
   "execution_count": 31,
   "id": "5fb9e5f4-aea3-4ec0-92d0-d7847dd63dd9",
   "metadata": {},
   "outputs": [
    {
     "name": "stdout",
     "output_type": "stream",
     "text": [
      "SignificanceResult(statistic=178698336.5605066, pvalue=0.0)\n",
      "SignificanceResult(statistic=613249992.0520062, pvalue=0.0)\n"
     ]
    }
   ],
   "source": [
    "# Reject the Normal hypothesis if pvalue < 0.05\n",
    "print(stats.jarque_bera(sp500_futures_dollar['intraday_simple_return']))\n",
    "print(stats.jarque_bera(sp500_futures_dollar['intraday_log_return']))"
   ]
  },
  {
   "cell_type": "markdown",
   "id": "59663994-74ff-42b5-95c2-96ac157d591d",
   "metadata": {},
   "source": [
    "## 7. Bollinger band"
   ]
  },
  {
   "cell_type": "code",
   "execution_count": 32,
   "id": "af0d23bb-f72d-40e3-8c6b-21b700f1f9ac",
   "metadata": {},
   "outputs": [
    {
     "data": {
      "text/html": [
       "<div>\n",
       "<style scoped>\n",
       "    .dataframe tbody tr th:only-of-type {\n",
       "        vertical-align: middle;\n",
       "    }\n",
       "\n",
       "    .dataframe tbody tr th {\n",
       "        vertical-align: top;\n",
       "    }\n",
       "\n",
       "    .dataframe thead th {\n",
       "        text-align: right;\n",
       "    }\n",
       "</style>\n",
       "<table border=\"1\" class=\"dataframe\">\n",
       "  <thead>\n",
       "    <tr style=\"text-align: right;\">\n",
       "      <th></th>\n",
       "      <th>dollar_group</th>\n",
       "      <th>date</th>\n",
       "      <th>time</th>\n",
       "      <th>open</th>\n",
       "      <th>close</th>\n",
       "      <th>low</th>\n",
       "      <th>high</th>\n",
       "      <th>spot_price</th>\n",
       "      <th>total_volume</th>\n",
       "      <th>vol_weighted_avg_price</th>\n",
       "      <th>dollar</th>\n",
       "      <th>count</th>\n",
       "      <th>intraday_simple_return</th>\n",
       "      <th>intraday_log_return</th>\n",
       "      <th>typical_price</th>\n",
       "    </tr>\n",
       "  </thead>\n",
       "  <tbody>\n",
       "    <tr>\n",
       "      <th>0</th>\n",
       "      <td>0</td>\n",
       "      <td>2003-07-01</td>\n",
       "      <td>03:16:30.000</td>\n",
       "      <td>1496.4</td>\n",
       "      <td>971.8</td>\n",
       "      <td>767.5</td>\n",
       "      <td>1574.0</td>\n",
       "      <td>982.32</td>\n",
       "      <td>1027</td>\n",
       "      <td>973.153262</td>\n",
       "      <td>999428.4</td>\n",
       "      <td>2813371</td>\n",
       "      <td>-35.057471</td>\n",
       "      <td>-0.431667</td>\n",
       "      <td>1104.433333</td>\n",
       "    </tr>\n",
       "    <tr>\n",
       "      <th>1</th>\n",
       "      <td>1</td>\n",
       "      <td>2003-07-01</td>\n",
       "      <td>06:32:03.000</td>\n",
       "      <td>971.9</td>\n",
       "      <td>971.3</td>\n",
       "      <td>971.1</td>\n",
       "      <td>973.2</td>\n",
       "      <td>982.32</td>\n",
       "      <td>1029</td>\n",
       "      <td>971.973761</td>\n",
       "      <td>1000161.0</td>\n",
       "      <td>532</td>\n",
       "      <td>-0.061735</td>\n",
       "      <td>-0.000618</td>\n",
       "      <td>971.866667</td>\n",
       "    </tr>\n",
       "    <tr>\n",
       "      <th>2</th>\n",
       "      <td>2</td>\n",
       "      <td>2003-07-01</td>\n",
       "      <td>07:44:30.000</td>\n",
       "      <td>971.3</td>\n",
       "      <td>968.2</td>\n",
       "      <td>967.6</td>\n",
       "      <td>972.0</td>\n",
       "      <td>982.32</td>\n",
       "      <td>1021</td>\n",
       "      <td>970.135260</td>\n",
       "      <td>990508.1</td>\n",
       "      <td>468</td>\n",
       "      <td>-0.319160</td>\n",
       "      <td>-0.003197</td>\n",
       "      <td>969.266667</td>\n",
       "    </tr>\n",
       "    <tr>\n",
       "      <th>3</th>\n",
       "      <td>3</td>\n",
       "      <td>2003-07-01</td>\n",
       "      <td>16:22:22.000</td>\n",
       "      <td>968.1</td>\n",
       "      <td>982.4</td>\n",
       "      <td>960.5</td>\n",
       "      <td>982.4</td>\n",
       "      <td>982.32</td>\n",
       "      <td>1039</td>\n",
       "      <td>971.218479</td>\n",
       "      <td>1009096.0</td>\n",
       "      <td>3447</td>\n",
       "      <td>1.477120</td>\n",
       "      <td>0.014663</td>\n",
       "      <td>975.100000</td>\n",
       "    </tr>\n",
       "    <tr>\n",
       "      <th>4</th>\n",
       "      <td>4</td>\n",
       "      <td>2003-07-02</td>\n",
       "      <td>01:51:04.000</td>\n",
       "      <td>982.2</td>\n",
       "      <td>983.1</td>\n",
       "      <td>981.3</td>\n",
       "      <td>984.0</td>\n",
       "      <td>993.75</td>\n",
       "      <td>1017</td>\n",
       "      <td>982.785251</td>\n",
       "      <td>999492.6</td>\n",
       "      <td>428</td>\n",
       "      <td>0.091631</td>\n",
       "      <td>0.000916</td>\n",
       "      <td>982.800000</td>\n",
       "    </tr>\n",
       "  </tbody>\n",
       "</table>\n",
       "</div>"
      ],
      "text/plain": [
       "   dollar_group       date          time    open  close    low    high  \\\n",
       "0             0 2003-07-01  03:16:30.000  1496.4  971.8  767.5  1574.0   \n",
       "1             1 2003-07-01  06:32:03.000   971.9  971.3  971.1   973.2   \n",
       "2             2 2003-07-01  07:44:30.000   971.3  968.2  967.6   972.0   \n",
       "3             3 2003-07-01  16:22:22.000   968.1  982.4  960.5   982.4   \n",
       "4             4 2003-07-02  01:51:04.000   982.2  983.1  981.3   984.0   \n",
       "\n",
       "   spot_price  total_volume  vol_weighted_avg_price     dollar    count  \\\n",
       "0      982.32          1027              973.153262   999428.4  2813371   \n",
       "1      982.32          1029              971.973761  1000161.0      532   \n",
       "2      982.32          1021              970.135260   990508.1      468   \n",
       "3      982.32          1039              971.218479  1009096.0     3447   \n",
       "4      993.75          1017              982.785251   999492.6      428   \n",
       "\n",
       "   intraday_simple_return  intraday_log_return  typical_price  \n",
       "0              -35.057471            -0.431667    1104.433333  \n",
       "1               -0.061735            -0.000618     971.866667  \n",
       "2               -0.319160            -0.003197     969.266667  \n",
       "3                1.477120             0.014663     975.100000  \n",
       "4                0.091631             0.000916     982.800000  "
      ]
     },
     "execution_count": 32,
     "metadata": {},
     "output_type": "execute_result"
    }
   ],
   "source": [
    "sp500_futures_dollar['typical_price'] = 1/3 * (sp500_futures_dollar['high'] + sp500_futures_dollar['low'] + sp500_futures_dollar['close'])\n",
    "sp500_futures_dollar.head()"
   ]
  },
  {
   "cell_type": "code",
   "execution_count": 33,
   "id": "85ed2af8-442c-497d-99dd-3ab22d97dc9e",
   "metadata": {},
   "outputs": [],
   "source": [
    "# Compute Bollinger band using 20-day SMA\n",
    "bollinger_window = 20 # days\n",
    "sp500_futures_dollar['bollinger'] = sp500_futures_dollar.typical_price.rolling(bollinger_window).mean()\n",
    "sp500_futures_dollar['bollinger+5%'] = sp500_futures_dollar['bollinger'] * 1.05\n",
    "sp500_futures_dollar['bollinger-5%'] = sp500_futures_dollar['bollinger'] * 0.95"
   ]
  },
  {
   "cell_type": "code",
   "execution_count": 34,
   "id": "5b934943-8e00-43d0-9416-659350c54073",
   "metadata": {},
   "outputs": [
    {
     "data": {
      "image/png": "[encoded data removed]",
      "text/plain": [
       "<Figure size 1000x600 with 1 Axes>"
      ]
     },
     "metadata": {},
     "output_type": "display_data"
    }
   ],
   "source": [
    "fig, ax = plt.subplots(figsize=(10, 6))\n",
    "\n",
    "# Plot the price data\n",
    "ax.plot(sp500_futures_dollar[\"date\"], sp500_futures_dollar[\"typical_price\"], linewidth=0.7, label=\"price\")\n",
    "\n",
    "# Plot the Bollinger Bands\n",
    "ax.plot(sp500_futures_dollar[\"date\"], sp500_futures_dollar['bollinger+5%'], color='black', linewidth=0.4, label=\"Upper Band\")\n",
    "ax.plot(sp500_futures_dollar[\"date\"], sp500_futures_dollar['bollinger-5%'], color='black', linewidth=0.4, label=\"Lower Band\")\n",
    "ax.fill_between(sp500_futures_dollar[\"date\"], sp500_futures_dollar['bollinger-5%'], sp500_futures_dollar['bollinger+5%'], alpha=0.2, color=\"gray\")\n",
    "\n",
    "# Add labels and title\n",
    "ax.set_xlabel(\"date\")\n",
    "ax.set_ylabel(\"price\")\n",
    "ax.set_title(\"Bollinger Bands for Stock Prices\")\n",
    "\n",
    "# Show the plot\n",
    "plt.tight_layout()\n",
    "plt.legend()\n",
    "plt.show()\n",
    "# sp500_futures_dollar[['date', 'typical_price', 'bollinger+5%', 'bollinger-5%']].plot(x='date')"
   ]
  },
  {
   "cell_type": "markdown",
   "id": "241b7d47-dbce-46dd-9534-d53424f7a552",
   "metadata": {},
   "source": [
    "## 8. CUSUM filter"
   ]
  },
  {
   "cell_type": "markdown",
   "id": "f6b8fa2c-d20b-43e0-9710-fe3e3f1c465e",
   "metadata": {},
   "source": [
    "Count the number of samples using a CUSUM filter, where {yt} are returns and h = 0.05"
   ]
  },
  {
   "cell_type": "code",
   "execution_count": 60,
   "id": "f4a663e9-8256-404d-a148-35436fe06de5",
   "metadata": {},
   "outputs": [],
   "source": [
    "sp500_futures_ticks['return_diff'] = sp500_futures_ticks['intraday_log_return'].diff().fillna(0)"
   ]
  },
  {
   "cell_type": "code",
   "execution_count": 63,
   "id": "d5a003ff-a6d8-4516-88f4-ebc9ceb887f0",
   "metadata": {},
   "outputs": [],
   "source": [
    "# Use E_{t-1}(y_t) = y_t\n",
    "def cumsum_filter_pos(row, threshold=0.05):\n",
    "    if row.name == 0:\n",
    "        cumsum_filter_pos.cumsum = 0\n",
    "        cumsum_filter_pos.count = 0\n",
    "    \n",
    "    cumsum_filter_pos.cumsum = max(0, cumsum_filter_pos.cumsum + row.return_diff)\n",
    "    if cumsum_filter_pos.cumsum > threshold:\n",
    "        cumsum_filter_pos.cumsum = 0\n",
    "        cumsum_filter_pos.count =+ 1\n",
    "    \n",
    "    return cumsum_filter_pos.cumsum, cumsum_filter_pos.count\n",
    "\n",
    "\n",
    "def cumsum_filter_neg(row, threshold=0.05):\n",
    "    if row.name == 0:\n",
    "        cumsum_filter_neg.cumsum = 0\n",
    "        cumsum_filter_neg.count = 0\n",
    "    \n",
    "    cumsum_filter_neg.cumsum = min(0, cumsum_filter_neg.cumsum + row.return_diff)\n",
    "    if cumsum_filter_neg.cumsum < -threshold:\n",
    "        cumsum_filter_neg.cumsum = 0\n",
    "        cumsum_filter_neg.count += 1\n",
    "    \n",
    "    return cumsum_filter_neg.cumsum, cumsum_filter_neg.count"
   ]
  },
  {
   "cell_type": "code",
   "execution_count": 64,
   "id": "88e22512-1ecd-440b-a787-73c5f16a3297",
   "metadata": {},
   "outputs": [],
   "source": [
    "sp500_futures_ticks['cusum_filter_pos'] = sp500_futures_ticks.apply(cumsum_filter_pos, axis=1)\n",
    "sp500_futures_ticks['cusum_filter_neg'] = sp500_futures_ticks.apply(cumsum_filter_neg, axis=1)"
   ]
  },
  {
   "cell_type": "code",
   "execution_count": 65,
   "id": "7be2bc47-4a18-451c-9e93-5183e85487c7",
   "metadata": {},
   "outputs": [
    {
     "data": {
      "text/html": [
       "<div>\n",
       "<style scoped>\n",
       "    .dataframe tbody tr th:only-of-type {\n",
       "        vertical-align: middle;\n",
       "    }\n",
       "\n",
       "    .dataframe tbody tr th {\n",
       "        vertical-align: top;\n",
       "    }\n",
       "\n",
       "    .dataframe thead th {\n",
       "        text-align: right;\n",
       "    }\n",
       "</style>\n",
       "<table border=\"1\" class=\"dataframe\">\n",
       "  <thead>\n",
       "    <tr style=\"text-align: right;\">\n",
       "      <th></th>\n",
       "      <th>cusum_filter_pos</th>\n",
       "      <th>cusum_filter_neg</th>\n",
       "    </tr>\n",
       "  </thead>\n",
       "  <tbody>\n",
       "    <tr>\n",
       "      <th>16086</th>\n",
       "      <td>(0.02995780804210958, 1)</td>\n",
       "      <td>(-0.016033110368252553, 54)</td>\n",
       "    </tr>\n",
       "    <tr>\n",
       "      <th>16087</th>\n",
       "      <td>(0, 1)</td>\n",
       "      <td>(0, 54)</td>\n",
       "    </tr>\n",
       "    <tr>\n",
       "      <th>16088</th>\n",
       "      <td>(0, 1)</td>\n",
       "      <td>(-0.020119672145125705, 54)</td>\n",
       "    </tr>\n",
       "    <tr>\n",
       "      <th>16089</th>\n",
       "      <td>(0, 1)</td>\n",
       "      <td>(-0.03949587641578009, 54)</td>\n",
       "    </tr>\n",
       "    <tr>\n",
       "      <th>16090</th>\n",
       "      <td>(0.0047457977753346346, 1)</td>\n",
       "      <td>(-0.03475007864044546, 54)</td>\n",
       "    </tr>\n",
       "  </tbody>\n",
       "</table>\n",
       "</div>"
      ],
      "text/plain": [
       "                 cusum_filter_pos             cusum_filter_neg\n",
       "16086    (0.02995780804210958, 1)  (-0.016033110368252553, 54)\n",
       "16087                      (0, 1)                      (0, 54)\n",
       "16088                      (0, 1)  (-0.020119672145125705, 54)\n",
       "16089                      (0, 1)   (-0.03949587641578009, 54)\n",
       "16090  (0.0047457977753346346, 1)   (-0.03475007864044546, 54)"
      ]
     },
     "execution_count": 65,
     "metadata": {},
     "output_type": "execute_result"
    }
   ],
   "source": [
    "sp500_futures_ticks[['cusum_filter_pos', 'cusum_filter_neg']].tail()"
   ]
  },
  {
   "cell_type": "code",
   "execution_count": null,
   "id": "e1d3cc14-cb53-4b81-9bdf-efc387ff8e21",
   "metadata": {},
   "outputs": [],
   "source": []
  }
 ],
 "metadata": {
  "kernelspec": {
   "display_name": "Python 3 (ipykernel)",
   "language": "python",
   "name": "python3"
  },
  "language_info": {
   "codemirror_mode": {
    "name": "ipython",
    "version": 3
   },
   "file_extension": ".py",
   "mimetype": "text/x-python",
   "name": "python",
   "nbconvert_exporter": "python",
   "pygments_lexer": "ipython3",
   "version": "3.11.5"
  }
 },
 "nbformat": 4,
 "nbformat_minor": 5
}
