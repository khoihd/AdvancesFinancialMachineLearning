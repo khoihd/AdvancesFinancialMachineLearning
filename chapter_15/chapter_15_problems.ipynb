{
 "cells": [
  {
   "cell_type": "code",
   "execution_count": 34,
   "id": "18398f04-75e7-4f68-9e99-cf503c8cd611",
   "metadata": {},
   "outputs": [],
   "source": [
    "import pandas as pd\n",
    "import numpy as np\n",
    "import matplotlib.pyplot as plt"
   ]
  },
  {
   "cell_type": "markdown",
   "id": "bb6c52e4-c7ab-457d-a19a-4339c2ed80da",
   "metadata": {},
   "source": [
    "#### Compute precision and frequency for symmetric payouts"
   ]
  },
  {
   "cell_type": "code",
   "execution_count": 35,
   "id": "d5f89921-6eb9-4a7f-a637-0628c939593b",
   "metadata": {},
   "outputs": [],
   "source": [
    "def get_precision_symmetric_payout(n, sr):\n",
    "    return 1/2 * (1 + np.sqrt(1 - n/(sr**2 + n))) "
   ]
  },
  {
   "cell_type": "code",
   "execution_count": 36,
   "id": "a6d386fd-ef8b-4c74-8f9c-3003ddda9ce4",
   "metadata": {},
   "outputs": [],
   "source": [
    "def get_freq_symmetric_payout(p, sr):\n",
    "    return int(np.power(sr * 2 * np.sqrt(p*(1-p)) / (2*p-1), 2))"
   ]
  },
  {
   "cell_type": "code",
   "execution_count": 37,
   "id": "2ba1e1a1-a789-4488-b77d-980d4595f61f",
   "metadata": {},
   "outputs": [
    {
     "name": "stdout",
     "output_type": "stream",
     "text": [
      "Minimum precision for the desirable annualized SR is 0.63\n"
     ]
    }
   ],
   "source": [
    "sr = 2\n",
    "n = 52\n",
    "p_sr = get_precision_symmetric_payout(n, sr)\n",
    "print(\"Minimum precision for the desirable annualized SR is {:.2f}\".format(p_sr))"
   ]
  },
  {
   "cell_type": "code",
   "execution_count": 38,
   "id": "1bf5562f-cbcb-4131-96c9-e7bccd76eaf2",
   "metadata": {},
   "outputs": [
    {
     "name": "stdout",
     "output_type": "stream",
     "text": [
      "Minimum bet frequency for the desirable annualized SR is 96\n"
     ]
    }
   ],
   "source": [
    "target_precision = 0.6\n",
    "n_sr = get_freq_symmetric_payout(0.6, sr)\n",
    "print(\"Minimum bet frequency for the desirable annualized SR is {}\".format(n_sr))"
   ]
  },
  {
   "cell_type": "markdown",
   "id": "a66673a3-c565-4813-8ac9-8abdac8765b4",
   "metadata": {},
   "source": [
    "#### Compute precision and frequency for asymmetric payouts"
   ]
  },
  {
   "cell_type": "code",
   "execution_count": 55,
   "id": "082fb334-1c32-4087-94e3-0e5fe67c0902",
   "metadata": {},
   "outputs": [],
   "source": [
    "def get_precision_symmetric_payout(n, sr, profit, loss):\n",
    "    a = (n + sr**2) * (profit-loss)**2\n",
    "    b = (2*n*loss - sr**2*(profit-loss)) * (profit-loss)\n",
    "    c = n*loss**2\n",
    "    \n",
    "    return (-b + np.sqrt(b**2 - 4*a*c)) / (2*a)"
   ]
  },
  {
   "cell_type": "code",
   "execution_count": 56,
   "id": "9c7d2a47-6642-4d2a-85ed-9d1cd7c4d51f",
   "metadata": {},
   "outputs": [],
   "source": [
    "def compute_profit_taking(n, p, sr, stop_loss):\n",
    "    T = sr/np.sqrt(n) * np.sqrt(p*(1-p))    \n",
    "    profit_taking = stop_loss * (T - p + 1) / (T - p)\n",
    "    return profit_taking"
   ]
  },
  {
   "cell_type": "code",
   "execution_count": 57,
   "id": "f40403a8-d1fb-4510-8031-f402005cecb4",
   "metadata": {},
   "outputs": [],
   "source": [
    "def compute_stop_loss(n, p, sr, profit_taking):\n",
    "    T = sr/np.sqrt(n) * np.sqrt(p*(1-p))\n",
    "    stop_loss = profit_taking * (T - p) / (T - p + 1)\n",
    "    return stop_loss"
   ]
  },
  {
   "cell_type": "code",
   "execution_count": 59,
   "id": "7ec5b0c0-5762-4aff-a656-c26bcfd25d9d",
   "metadata": {},
   "outputs": [
    {
     "name": "stdout",
     "output_type": "stream",
     "text": [
      "WARNING: These two functions might return negative profit taking and stop loss values\n",
      "Adjusted profit taking barrier is -1.13\n",
      "Adjusted stop loss barrier is -0.88\n"
     ]
    }
   ],
   "source": [
    "target_pt = 1.02\n",
    "target_sl = 0.98\n",
    "\n",
    "aim_pt = compute_profit_taking(n, target_precision, sr, target_sl)\n",
    "aim_sl = compute_stop_loss(n, target_precision, sr, target_pt)\n",
    "\n",
    "print(\"WARNING: These two functions might return negative profit taking and stop loss values\")\n",
    "print(\"Adjusted profit taking barrier is {:.2f}\".format(aim_pt))\n",
    "print(\"Adjusted stop loss barrier is {:.2f}\".format(aim_sl))"
   ]
  }
 ],
 "metadata": {
  "kernelspec": {
   "display_name": "Python 3 (ipykernel)",
   "language": "python",
   "name": "python3"
  },
  "language_info": {
   "codemirror_mode": {
    "name": "ipython",
    "version": 3
   },
   "file_extension": ".py",
   "mimetype": "text/x-python",
   "name": "python",
   "nbconvert_exporter": "python",
   "pygments_lexer": "ipython3",
   "version": "3.11.7"
  }
 },
 "nbformat": 4,
 "nbformat_minor": 5
}
