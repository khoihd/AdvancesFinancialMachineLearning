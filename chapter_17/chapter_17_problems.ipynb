{
 "cells": [
  {
   "cell_type": "code",
   "execution_count": null,
   "id": "95d3112d-29e3-4a87-97ba-147a8444f0ba",
   "metadata": {},
   "outputs": [],
   "source": [
    "import pandas as pd\n",
    "import numpy as np\n",
    "import matplotlib.pyplot as plt\n",
    "from statsmodels.tsa.stattools import adfuller"
   ]
  },
  {
   "cell_type": "code",
   "execution_count": null,
   "id": "afd7cd1f-701c-4778-9680-9ee07a84d3b3",
   "metadata": {},
   "outputs": [],
   "source": [
    "dollar_df = pd.read_csv('../data/processed_sp500_futures_dollar.csv')"
   ]
  },
  {
   "cell_type": "code",
   "execution_count": null,
   "id": "3cc8bf22-108c-4def-a940-c9eebc78e227",
   "metadata": {},
   "outputs": [],
   "source": [
    "dollar_df.head()"
   ]
  },
  {
   "cell_type": "markdown",
   "id": "11b7a9e4-eef0-4c3b-94db-b155819ffdd4",
   "metadata": {},
   "source": [
    "#### Apply the Brown-Durbin-Evans method"
   ]
  },
  {
   "cell_type": "code",
   "execution_count": null,
   "id": "179219a1-6fc6-4e22-8841-cb62d8b39b19",
   "metadata": {},
   "outputs": [],
   "source": [
    "def solve_lse(Xt, yt):\n",
    "    return np.linalg.lstsq(Xt, yt, rcond=None)"
   ]
  },
  {
   "cell_type": "code",
   "execution_count": null,
   "id": "962d9b10-1543-45f1-837f-9b3f27d34134",
   "metadata": {},
   "outputs": [],
   "source": [
    "def pick_k(X, y):\n",
    "    return len(y) * 999 // 1000"
   ]
  },
  {
   "cell_type": "code",
   "execution_count": null,
   "id": "16a3e6b0-7b3e-49e1-bba3-390e80e1d395",
   "metadata": {},
   "outputs": [],
   "source": [
    "X = dollar_df[['dollar_group', 'total_volume', 'count']]\n",
    "X = (X - X.mean()) / X.std()\n",
    "y = dollar_df.close.values.reshape(-1, 1)"
   ]
  },
  {
   "cell_type": "code",
   "execution_count": null,
   "id": "28ff7fde-8741-46f2-a0df-ccfb3fd99765",
   "metadata": {},
   "outputs": [],
   "source": [
    "k = pick_k(X, y)\n",
    "T = len(y)\n",
    "\n",
    "# b values computed from data up to index t (key) inclusive\n",
    "b_values = {} # keys: k -> T-1\n",
    "count = 0\n",
    "for t in range(k, T):\n",
    "    count += 1\n",
    "    if count >= (T-k) / 10:\n",
    "        print(\"10% Completed\")\n",
    "        count = 0\n",
    "\n",
    "    b_values[t] = solve_lse(X.iloc[:t+1, :], y[:t+1]) # t+1 first values"
   ]
  },
  {
   "cell_type": "code",
   "execution_count": null,
   "id": "73b7f87d-895f-43c6-b6fb-37ba0870cb44",
   "metadata": {},
   "outputs": [],
   "source": [
    "# Temporarily set this value to 1, following the formula from the original paper\n",
    "# https://hhstokes.people.uic.edu/ftp/e535/Brown_Durbin_evans_1975.pdf\n",
    "noise_var = 1\n",
    "weights = {} # keys: from k up to T-1\n",
    "\n",
    "# Loop from t: k-1 -> T-2\n",
    "for t in range(k, T):\n",
    "    if (t-1) not in b_values.keys():\n",
    "        continue\n",
    "\n",
    "    f_t = 1 + X.iloc[t,:].T @ np.linalg.inv(X.iloc[:t+1].T @ X.iloc[:t+1]) @ X.iloc[t,:]    \n",
    "    w_t = (y[t] - b_values[t-1][0].reshape(1, -1).T @ X.iloc[t,:].to_numpy().reshape(1, -1)) / np.sqrt(f_t)\n",
    "    weights[t] = w_t"
   ]
  },
  {
   "cell_type": "code",
   "execution_count": null,
   "id": "fc4d3ee5-c697-496c-964a-5da150211330",
   "metadata": {},
   "outputs": [],
   "source": [
    "S_t = {}\n",
    "weight_std = np.std(list(weights.values()))\n",
    "for t in range(min(weights.keys()), max(weights.keys()) + 1):\n",
    "    weight_cumsum = 0\n",
    "    for i in range(k, t+1):\n",
    "        weight_cumsum += weights.get(i, 0)#\n",
    "    \n",
    "    S_t[t] = weight_cumsum / weight_std"
   ]
  },
  {
   "cell_type": "markdown",
   "id": "9b059535-49cb-4e7b-b865-c8b9124c2a32",
   "metadata": {},
   "source": [
    "#### Apply the Chu-Stinchcombe-White method"
   ]
  },
  {
   "cell_type": "markdown",
   "id": "3a17620d-3a5e-44fa-a093-e93eab49ba52",
   "metadata": {},
   "source": [
    "TBD"
   ]
  },
  {
   "cell_type": "markdown",
   "id": "2e5b8ff3-1cee-4759-b633-47cec58b41ca",
   "metadata": {},
   "source": [
    "#### Chow-Type Dickey Fuller"
   ]
  },
  {
   "cell_type": "code",
   "execution_count": null,
   "id": "89321971-c23e-4dbd-8203-e229147fdf4a",
   "metadata": {},
   "outputs": [],
   "source": [
    "def dickey_fuller_chow_stat(ts, cutoff):\n",
    "    None"
   ]
  },
  {
   "cell_type": "markdown",
   "id": "cf723919-ff1b-4986-94a6-c8cf3edce693",
   "metadata": {},
   "source": [
    "#### Supremum Augmented Dickey-Fuller"
   ]
  },
  {
   "cell_type": "code",
   "execution_count": null,
   "id": "7bbfebf2-f6ad-43f5-8b44-05f41a3c800c",
   "metadata": {},
   "outputs": [],
   "source": [
    "def compute_sdaf(timeseries, min_sample_ratio=0.5/100):\n",
    "    sdaf = {}\n",
    "    N = timeseries.shape[0]\n",
    "    min_samples = int(N * 0.5 / 100)\n",
    "    for t in range(min_samples, N):\n",
    "        min_adf = float('inf')\n",
    "        for t0 in range(t-min_samples+1):\n",
    "            adf_result = adfuller(timeseries[t0:t+1])\n",
    "            min_adf = min(min_adf, adf_result[0])\n",
    "        sdaf[t] = min_adf\n",
    "    return sdaf"
   ]
  },
  {
   "cell_type": "code",
   "execution_count": null,
   "id": "b92bebe2-0af1-4cef-8489-8cc1b089c7c1",
   "metadata": {},
   "outputs": [],
   "source": [
    "sdaf = compute_sdaf(dollar_df.close)"
   ]
  },
  {
   "cell_type": "code",
   "execution_count": null,
   "id": "3aaa981d-f286-49c0-883d-08b9b804ed6f",
   "metadata": {},
   "outputs": [],
   "source": [
    "min_idx, max_idx = min(sdaf.keys()), max(sdaf.keys())\n",
    "sdaf_price = dollar_df.iloc[min_idx, max_idx+1]\n",
    "sdaf_price['sdaf'] = [sdaf[k] for k in sorted(sdaf)]\n",
    "plt.plot(sdaf_price.close)\n",
    "plt.plot(sdaf_price.sdaf)"
   ]
  },
  {
   "cell_type": "markdown",
   "id": "110e8292-1c18-4184-b5f0-26a73920e32f",
   "metadata": {},
   "source": []
  }
 ],
 "metadata": {
  "kernelspec": {
   "display_name": "Python 3 (ipykernel)",
   "language": "python",
   "name": "python3"
  },
  "language_info": {
   "codemirror_mode": {
    "name": "ipython",
    "version": 3
   },
   "file_extension": ".py",
   "mimetype": "text/x-python",
   "name": "python",
   "nbconvert_exporter": "python",
   "pygments_lexer": "ipython3",
   "version": "3.12.0"
  }
 },
 "nbformat": 4,
 "nbformat_minor": 5
}
